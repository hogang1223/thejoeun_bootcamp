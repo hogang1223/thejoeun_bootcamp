{
 "cells": [
  {
   "cell_type": "markdown",
   "id": "e52f8efc",
   "metadata": {},
   "source": [
    "# 몬테카를로 시뮬레이션\n",
    ": 자료가 없을 경우 난수를 통해 가설 증명\n",
    "    "
   ]
  },
  {
   "cell_type": "markdown",
   "id": "a0d2ef74",
   "metadata": {},
   "source": [
    "## 동전의 앞면과 뒷면이 나올 확률이 같다는 것을 증명"
   ]
  },
  {
   "cell_type": "code",
   "execution_count": 2,
   "id": "ae2c9a1d",
   "metadata": {},
   "outputs": [],
   "source": [
    "# 모듈 불러오기\n",
    "import random"
   ]
  },
  {
   "cell_type": "code",
   "execution_count": 10,
   "id": "339072e3",
   "metadata": {},
   "outputs": [
    {
     "data": {
      "text/plain": [
       "10"
      ]
     },
     "execution_count": 10,
     "metadata": {},
     "output_type": "execute_result"
    }
   ],
   "source": [
    "random.randint(1,10)"
   ]
  },
  {
   "cell_type": "code",
   "execution_count": 33,
   "id": "bcaec91a",
   "metadata": {},
   "outputs": [
    {
     "name": "stdout",
     "output_type": "stream",
     "text": [
      "앞면\n"
     ]
    }
   ],
   "source": [
    "# 난수를 통한 방법\n",
    "x = random.randint(1,2)\n",
    "if x == 1:\n",
    "    result = \"앞면\"\n",
    "else:\n",
    "    result = \"뒷면\"\n",
    "\n",
    "print(result)"
   ]
  },
  {
   "cell_type": "code",
   "execution_count": 34,
   "id": "c74dff76",
   "metadata": {},
   "outputs": [],
   "source": [
    "def coinF(n):\n",
    "    coinFront = coinRear = 0\n",
    "    for i in range(1, n+1):\n",
    "        x = random.randint(1,2)\n",
    "        if x == 1:\n",
    "            coinFront += 1\n",
    "        else:\n",
    "            coinRear += 1\n",
    "    print(\"%d번 시도시 동전의 앞면은 %d번이고 동전의 뒷면은 %d번입니다.\" %(n, coinFront, coinRear))"
   ]
  },
  {
   "cell_type": "code",
   "execution_count": 35,
   "id": "0a4bd03c",
   "metadata": {},
   "outputs": [
    {
     "name": "stdout",
     "output_type": "stream",
     "text": [
      "10번 시도시 동전의 앞면은 3번이고 동전의 뒷면은 7번입니다.\n",
      "100번 시도시 동전의 앞면은 51번이고 동전의 뒷면은 49번입니다.\n",
      "1000번 시도시 동전의 앞면은 504번이고 동전의 뒷면은 496번입니다.\n",
      "10000번 시도시 동전의 앞면은 5000번이고 동전의 뒷면은 5000번입니다.\n",
      "100000번 시도시 동전의 앞면은 49748번이고 동전의 뒷면은 50252번입니다.\n",
      "1000000번 시도시 동전의 앞면은 500253번이고 동전의 뒷면은 499747번입니다.\n",
      "10000000번 시도시 동전의 앞면은 4999341번이고 동전의 뒷면은 5000659번입니다.\n"
     ]
    }
   ],
   "source": [
    "coinF(10)\n",
    "coinF(100)\n",
    "coinF(1000)\n",
    "coinF(10000)\n",
    "coinF(100000)\n",
    "coinF(1000000)\n",
    "coinF(10000000)"
   ]
  },
  {
   "cell_type": "code",
   "execution_count": 39,
   "id": "9359a0f0",
   "metadata": {},
   "outputs": [],
   "source": [
    "# 가위, 바위, 보 게임이 이길 확률이 같다는 것을 증명\n",
    "\n",
    "def rock(n):\n",
    "    r = s = p = 0\n",
    "    for i in range(1, n+1):\n",
    "        x = random.randint(1,3)\n",
    "        if x == 1:\n",
    "            r += 1\n",
    "        elif x == 2:\n",
    "            s += 1\n",
    "        else:\n",
    "            p += 1\n",
    "    print(\"%7d번 시도시 가위는 %6d번 이겼고 바위는 %6d번 이겼으며 보는 %6d번 이겼습니다.\" %(n,s,r,p))"
   ]
  },
  {
   "cell_type": "code",
   "execution_count": 40,
   "id": "3d982124",
   "metadata": {},
   "outputs": [
    {
     "name": "stdout",
     "output_type": "stream",
     "text": [
      "     10번 시도시 가위는      7번 이겼고 바위는      3번 이겼으며 보는      0번 이겼습니다.\n",
      "    100번 시도시 가위는     34번 이겼고 바위는     29번 이겼으며 보는     37번 이겼습니다.\n",
      "   1000번 시도시 가위는    330번 이겼고 바위는    342번 이겼으며 보는    328번 이겼습니다.\n",
      "  10000번 시도시 가위는   3336번 이겼고 바위는   3352번 이겼으며 보는   3312번 이겼습니다.\n",
      " 100000번 시도시 가위는  33346번 이겼고 바위는  33375번 이겼으며 보는  33279번 이겼습니다.\n",
      "1000000번 시도시 가위는 333278번 이겼고 바위는 333716번 이겼으며 보는 333006번 이겼습니다.\n"
     ]
    }
   ],
   "source": [
    "rock(10)\n",
    "rock(100)\n",
    "rock(1000)\n",
    "rock(10000)\n",
    "rock(100000)\n",
    "rock(1000000)"
   ]
  },
  {
   "cell_type": "code",
   "execution_count": null,
   "id": "886cbe34",
   "metadata": {},
   "outputs": [],
   "source": [
    "def rockGameF(n):\n",
    "# 1 가위, 2 바위, 3 보    \n",
    "    scissors = rock = paper = draw = 0\n",
    "    for i in range(1, n+1):\n",
    "        x = random.randint(1,3)\n",
    "        y = random.randint(1,3)\n",
    "        \n",
    "        if x == y:\n",
    "            draw += 1\n",
    "        elif "
   ]
  },
  {
   "cell_type": "code",
   "execution_count": null,
   "id": "b9eadd0c",
   "metadata": {},
   "outputs": [],
   "source": []
  },
  {
   "cell_type": "code",
   "execution_count": null,
   "id": "1d36c1f3",
   "metadata": {},
   "outputs": [],
   "source": []
  },
  {
   "cell_type": "code",
   "execution_count": null,
   "id": "8e0f404c",
   "metadata": {},
   "outputs": [],
   "source": []
  },
  {
   "cell_type": "code",
   "execution_count": null,
   "id": "3193b7ce",
   "metadata": {},
   "outputs": [],
   "source": []
  },
  {
   "cell_type": "code",
   "execution_count": null,
   "id": "5962148b",
   "metadata": {},
   "outputs": [],
   "source": []
  },
  {
   "cell_type": "code",
   "execution_count": null,
   "id": "a841e4a0",
   "metadata": {},
   "outputs": [],
   "source": []
  },
  {
   "cell_type": "code",
   "execution_count": null,
   "id": "11e944cd",
   "metadata": {},
   "outputs": [],
   "source": []
  },
  {
   "cell_type": "code",
   "execution_count": null,
   "id": "b7a31929",
   "metadata": {},
   "outputs": [],
   "source": []
  },
  {
   "cell_type": "code",
   "execution_count": null,
   "id": "e123ba30",
   "metadata": {},
   "outputs": [],
   "source": []
  }
 ],
 "metadata": {
  "kernelspec": {
   "display_name": "Python 3",
   "language": "python",
   "name": "python3"
  },
  "language_info": {
   "codemirror_mode": {
    "name": "ipython",
    "version": 3
   },
   "file_extension": ".py",
   "mimetype": "text/x-python",
   "name": "python",
   "nbconvert_exporter": "python",
   "pygments_lexer": "ipython3",
   "version": "3.8.8"
  }
 },
 "nbformat": 4,
 "nbformat_minor": 5
}
