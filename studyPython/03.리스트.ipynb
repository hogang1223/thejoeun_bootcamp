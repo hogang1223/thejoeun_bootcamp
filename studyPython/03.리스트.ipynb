{
 "cells": [
  {
   "cell_type": "markdown",
   "id": "28b55520",
   "metadata": {},
   "source": [
    "# 리스트(list) 자료형\n",
    "- 숫자나 문자들의 모음을 하나의 자료형으로 표현하기 사용\n",
    "- format : listNmae = [e1, e2 ....]"
   ]
  },
  {
   "cell_type": "markdown",
   "id": "e6eb0e09",
   "metadata": {},
   "source": [
    "## 리스트 자료형 선언"
   ]
  },
  {
   "cell_type": "code",
   "execution_count": 2,
   "id": "02a71e6c",
   "metadata": {},
   "outputs": [],
   "source": [
    "var01 = []\n",
    "var02 = [1,2,3]\n",
    "var03 = ['I', \"have\", 'a', \"dream\"]\n",
    "var04 = [1,2, 'dream', 'True']\n",
    "var05 = [1, 2, ['Dream', 'true']]"
   ]
  },
  {
   "cell_type": "markdown",
   "id": "09cb2f03",
   "metadata": {},
   "source": [
    "# 리스트의 indexing과 Slicing"
   ]
  },
  {
   "cell_type": "code",
   "execution_count": 9,
   "id": "d2216aa6",
   "metadata": {},
   "outputs": [
    {
     "name": "stdout",
     "output_type": "stream",
     "text": [
      "[]\n",
      "[1, 2, 3]\n",
      "['I', 'have', 'a', 'dream']\n",
      "[1, 2, 'dream', 'True']\n",
      "[1, 2, ['Dream', 'true']]\n",
      "['Dream', 'true']\n",
      "Dream\n"
     ]
    }
   ],
   "source": [
    "print(var01)\n",
    "print(var02)\n",
    "print(var03)\n",
    "print(var04)\n",
    "print(var05)\n",
    "\n",
    "print(var05[2])\n",
    "print(var05[2][0])"
   ]
  },
  {
   "cell_type": "code",
   "execution_count": 10,
   "id": "0a1946e8",
   "metadata": {},
   "outputs": [
    {
     "data": {
      "text/plain": [
       "3"
      ]
     },
     "execution_count": 10,
     "metadata": {},
     "output_type": "execute_result"
    }
   ],
   "source": [
    "# 리스트의 계산\n",
    "var02[0] + var02[1]"
   ]
  },
  {
   "cell_type": "code",
   "execution_count": 26,
   "id": "efdc4a01",
   "metadata": {},
   "outputs": [
    {
     "name": "stdout",
     "output_type": "stream",
     "text": [
      "[1, 2, ['a', 'b', ['dream', 'true']]]\n",
      "1\n",
      "['a', 'b', ['dream', 'true']]\n",
      "dream\n"
     ]
    }
   ],
   "source": [
    "# 3중 리스트에서 indexing\n",
    "var = [1,2,['a', 'b',['dream', \"true\"]]]\n",
    "print(var)\n",
    "print(var[0])\n",
    "print(var[-1])\n",
    "print(var[-1][-1][0])"
   ]
  },
  {
   "cell_type": "code",
   "execution_count": 27,
   "id": "ed8d06cf",
   "metadata": {},
   "outputs": [
    {
     "name": "stdout",
     "output_type": "stream",
     "text": [
      "[['a', 'b', ['dream', 'true']]]\n"
     ]
    }
   ],
   "source": [
    "print(var[2:])"
   ]
  },
  {
   "cell_type": "markdown",
   "id": "537f7eeb",
   "metadata": {},
   "source": [
    "# 리스트 연산\n"
   ]
  },
  {
   "cell_type": "code",
   "execution_count": 28,
   "id": "e5b96e77",
   "metadata": {},
   "outputs": [
    {
     "data": {
      "text/plain": [
       "[1, 2, 3, 4, 5, 6]"
      ]
     },
     "execution_count": 28,
     "metadata": {},
     "output_type": "execute_result"
    }
   ],
   "source": [
    "# 리스트의 숫자 합치기\n",
    "\n",
    "var01 = [1,2,3]\n",
    "var02 = [4,5,6]\n",
    "var01 + var02"
   ]
  },
  {
   "cell_type": "code",
   "execution_count": 33,
   "id": "ad5f61a6",
   "metadata": {},
   "outputs": [
    {
     "name": "stdout",
     "output_type": "stream",
     "text": [
      "5\n",
      "7\n",
      "9\n"
     ]
    }
   ],
   "source": [
    "# 리스트의 덧셈\n",
    "for i in range(0, 3):\n",
    "    sum = var01[i] + var02[i]\n",
    "    print(sum)"
   ]
  },
  {
   "cell_type": "code",
   "execution_count": 39,
   "id": "7ea865e1",
   "metadata": {},
   "outputs": [
    {
     "name": "stdout",
     "output_type": "stream",
     "text": [
      "6\n"
     ]
    }
   ],
   "source": [
    "tot = 0\n",
    "for i in range(0, 3):\n",
    "    tot += var01[i]\n",
    "print(tot)"
   ]
  },
  {
   "cell_type": "code",
   "execution_count": 40,
   "id": "0dfcc80a",
   "metadata": {},
   "outputs": [
    {
     "data": {
      "text/plain": [
       "[1, 2, 3, 1, 2, 3, 1, 2, 3]"
      ]
     },
     "execution_count": 40,
     "metadata": {},
     "output_type": "execute_result"
    }
   ],
   "source": [
    "# 리스트의 숫자 반복\n",
    "var01 * 3"
   ]
  },
  {
   "cell_type": "code",
   "execution_count": 45,
   "id": "9512e209",
   "metadata": {},
   "outputs": [
    {
     "name": "stdout",
     "output_type": "stream",
     "text": [
      "10\n",
      "20\n",
      "30\n"
     ]
    }
   ],
   "source": [
    "# 리스트의 곱셈\n",
    "# var01의 data를 10배 계산하여 출력하기\n",
    "\n",
    "for i in var01:\n",
    "    print(i*10)"
   ]
  },
  {
   "cell_type": "code",
   "execution_count": 47,
   "id": "a351e16d",
   "metadata": {},
   "outputs": [
    {
     "name": "stdout",
     "output_type": "stream",
     "text": [
      "3hi!\n"
     ]
    }
   ],
   "source": [
    "# 리스트의 타입 변환\n",
    "var = [1,2,3]\n",
    "print(str(var[2]) + \"hi!\")"
   ]
  },
  {
   "cell_type": "code",
   "execution_count": 95,
   "id": "5b6c6b6a",
   "metadata": {},
   "outputs": [
    {
     "data": {
      "text/plain": [
       "int"
      ]
     },
     "execution_count": 95,
     "metadata": {},
     "output_type": "execute_result"
    }
   ],
   "source": [
    "temp = \"123\"\n",
    "type(temp)\n",
    "temp1 = int(temp)\n",
    "type(temp1)"
   ]
  },
  {
   "cell_type": "markdown",
   "id": "d010e856",
   "metadata": {},
   "source": [
    "# 리스트의 수정과 삭제"
   ]
  },
  {
   "cell_type": "code",
   "execution_count": 72,
   "id": "724e1ae0",
   "metadata": {},
   "outputs": [
    {
     "data": {
      "text/plain": [
       "[1, 2, 4]"
      ]
     },
     "execution_count": 72,
     "metadata": {},
     "output_type": "execute_result"
    }
   ],
   "source": [
    "var = [1,2,3]\n",
    "var[2] = 4\n",
    "var"
   ]
  },
  {
   "cell_type": "code",
   "execution_count": 73,
   "id": "a92a8dfb",
   "metadata": {},
   "outputs": [
    {
     "data": {
      "text/plain": [
       "[1, 'a', 'b', 'c', 4]"
      ]
     },
     "execution_count": 73,
     "metadata": {},
     "output_type": "execute_result"
    }
   ],
   "source": [
    "var[1:2] = ['a', 'b', 'c']\n",
    "var"
   ]
  },
  {
   "cell_type": "code",
   "execution_count": 74,
   "id": "58be51ac",
   "metadata": {},
   "outputs": [
    {
     "data": {
      "text/plain": [
       "['a']"
      ]
     },
     "execution_count": 74,
     "metadata": {},
     "output_type": "execute_result"
    }
   ],
   "source": [
    "# 1-2번지 데이터를 지우기\n",
    "var[1:2]"
   ]
  },
  {
   "cell_type": "code",
   "execution_count": 75,
   "id": "35f0a42c",
   "metadata": {},
   "outputs": [
    {
     "data": {
      "text/plain": [
       "[1, 'c', 4]"
      ]
     },
     "execution_count": 75,
     "metadata": {},
     "output_type": "execute_result"
    }
   ],
   "source": [
    "var[1:3] = []\n",
    "var"
   ]
  },
  {
   "cell_type": "code",
   "execution_count": 79,
   "id": "b49e35e3",
   "metadata": {},
   "outputs": [
    {
     "data": {
      "text/plain": [
       "[1]"
      ]
     },
     "execution_count": 79,
     "metadata": {},
     "output_type": "execute_result"
    }
   ],
   "source": [
    "del var[1:3]\n",
    "var"
   ]
  },
  {
   "cell_type": "code",
   "execution_count": 81,
   "id": "1126ff7f",
   "metadata": {},
   "outputs": [
    {
     "data": {
      "text/plain": [
       "[1, 2, 3, 4]"
      ]
     },
     "execution_count": 81,
     "metadata": {},
     "output_type": "execute_result"
    }
   ],
   "source": [
    "# 리스트에 요소 추가\n",
    "var = [1,2,3]\n",
    "var.append(4)"
   ]
  },
  {
   "cell_type": "code",
   "execution_count": 82,
   "id": "25105bab",
   "metadata": {},
   "outputs": [
    {
     "data": {
      "text/plain": [
       "[1, 2, 3, 4, [5, 6]]"
      ]
     },
     "execution_count": 82,
     "metadata": {},
     "output_type": "execute_result"
    }
   ],
   "source": [
    "var.append([5,6])\n",
    "var"
   ]
  },
  {
   "cell_type": "code",
   "execution_count": 90,
   "id": "9b4e5cf7",
   "metadata": {},
   "outputs": [
    {
     "name": "stdout",
     "output_type": "stream",
     "text": [
      "[1, 4, 3, 2]\n",
      "[1, 2, 3, 4]\n",
      "4\n",
      "4\n",
      "1\n"
     ]
    }
   ],
   "source": [
    "# 리스트의 정렬\n",
    "var = [1,4,3,2]\n",
    "print(var)\n",
    "\n",
    "# 오름차순\n",
    "var.sort()\n",
    "print(var)\n",
    "\n",
    "# 내림차순\n",
    "var.reverse()\n",
    "print(var[0])\n",
    "\n",
    "print(max(var))\n",
    "print(min(var))"
   ]
  },
  {
   "cell_type": "code",
   "execution_count": 94,
   "id": "7bc0cf4d",
   "metadata": {},
   "outputs": [
    {
     "name": "stdout",
     "output_type": "stream",
     "text": [
      "['국', '대', '민', '한']\n",
      "['한', '민', '대', '국']\n"
     ]
    }
   ],
   "source": [
    "# 리스트 문자 정렬 : 한글\n",
    "var = ['대', '한', '민', '국']\n",
    "# 오름차순 정렬\n",
    "var.sort()\n",
    "print(var)\n",
    "# 내림차순 정렬\n",
    "var.reverse()\n",
    "print(var)"
   ]
  },
  {
   "cell_type": "code",
   "execution_count": 96,
   "id": "28b1c481",
   "metadata": {},
   "outputs": [
    {
     "data": {
      "text/plain": [
       "1"
      ]
     },
     "execution_count": 96,
     "metadata": {},
     "output_type": "execute_result"
    }
   ],
   "source": [
    "# 리스트의 위치 정보\n",
    "var = [4,5,6]\n",
    "var.index(5)"
   ]
  },
  {
   "cell_type": "code",
   "execution_count": 99,
   "id": "d77d6953",
   "metadata": {},
   "outputs": [
    {
     "data": {
      "text/plain": [
       "[4, 1, 2, 3]"
      ]
     },
     "execution_count": 99,
     "metadata": {},
     "output_type": "execute_result"
    }
   ],
   "source": [
    "# 리스트에 요소 삽입\n",
    "var = [1,2,3]\n",
    "var.insert(0, 4)\n",
    "var"
   ]
  },
  {
   "cell_type": "code",
   "execution_count": 101,
   "id": "85f91fe1",
   "metadata": {},
   "outputs": [
    {
     "data": {
      "text/plain": [
       "[1, 2, 3, 5, 6]"
      ]
     },
     "execution_count": 101,
     "metadata": {},
     "output_type": "execute_result"
    }
   ],
   "source": [
    "# 리스트에 요소 제거\n",
    "var = [1,2,3,4,5,6]\n",
    "# 데이터(요소)가 4인것 제거\n",
    "var.remove(4)\n",
    "var"
   ]
  },
  {
   "cell_type": "code",
   "execution_count": 105,
   "id": "6ecce689",
   "metadata": {},
   "outputs": [
    {
     "name": "stdout",
     "output_type": "stream",
     "text": [
      "3\n",
      "[1, 2]\n",
      "2\n",
      "[1]\n"
     ]
    }
   ],
   "source": [
    "# 리스트 요소 끄집어 내기\n",
    "var = [1,2,3]\n",
    "print(var.pop())\n",
    "print(var)\n",
    "print(var.pop())\n",
    "print(var)"
   ]
  },
  {
   "cell_type": "code",
   "execution_count": 106,
   "id": "bb322528",
   "metadata": {},
   "outputs": [
    {
     "name": "stdout",
     "output_type": "stream",
     "text": [
      "3\n",
      "2\n",
      "1\n",
      "[]\n"
     ]
    }
   ],
   "source": [
    "# for문을 사용한 pop\n",
    "var = [1,2,3]\n",
    "\n",
    "for i in range(0,3):\n",
    "    print(var.pop())\n",
    "print(var)"
   ]
  },
  {
   "cell_type": "code",
   "execution_count": 109,
   "id": "2332d78a",
   "metadata": {},
   "outputs": [
    {
     "data": {
      "text/plain": [
       "[1, 2, 3, 4, 5, 6]"
      ]
     },
     "execution_count": 109,
     "metadata": {},
     "output_type": "execute_result"
    }
   ],
   "source": [
    "# 리스트의 확장\n",
    "var = [1,2,3,4]\n",
    "var1 = [5,6]\n",
    "var.extend(var1)\n",
    "var"
   ]
  },
  {
   "cell_type": "code",
   "execution_count": null,
   "id": "3cf280f8",
   "metadata": {},
   "outputs": [],
   "source": []
  },
  {
   "cell_type": "code",
   "execution_count": null,
   "id": "e3f1017b",
   "metadata": {},
   "outputs": [],
   "source": []
  }
 ],
 "metadata": {
  "kernelspec": {
   "display_name": "Python 3",
   "language": "python",
   "name": "python3"
  },
  "language_info": {
   "codemirror_mode": {
    "name": "ipython",
    "version": 3
   },
   "file_extension": ".py",
   "mimetype": "text/x-python",
   "name": "python",
   "nbconvert_exporter": "python",
   "pygments_lexer": "ipython3",
   "version": "3.8.8"
  }
 },
 "nbformat": 4,
 "nbformat_minor": 5
}
