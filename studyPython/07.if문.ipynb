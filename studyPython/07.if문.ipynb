{
 "cells": [
  {
   "cell_type": "code",
   "execution_count": 1,
   "id": "0cabb0ee",
   "metadata": {},
   "outputs": [],
   "source": [
    "from random import randint"
   ]
  },
  {
   "cell_type": "code",
   "execution_count": 2,
   "id": "d95a3df2",
   "metadata": {},
   "outputs": [
    {
     "name": "stdout",
     "output_type": "stream",
     "text": [
      "59 is greater than 50\n",
      "---end---\n"
     ]
    }
   ],
   "source": [
    "# if\n",
    "x = randint(1,100)\n",
    "x\n",
    "\n",
    "if(x > 50):\n",
    "    print(str(x), \"is greater than 50\")\n",
    "    \n",
    "print(\"---end---\")"
   ]
  },
  {
   "cell_type": "code",
   "execution_count": 3,
   "id": "13235f5a",
   "metadata": {},
   "outputs": [
    {
     "name": "stdout",
     "output_type": "stream",
     "text": [
      "34 is less or equal to 50\n",
      "---end---\n"
     ]
    }
   ],
   "source": [
    "# if else\n",
    "x = randint(1, 100)\n",
    "\n",
    "if x > 50 :\n",
    "    print(str(x), \"is greater than 50\")\n",
    "else:\n",
    "    print(str(x), \"is less or equal to 50\")\n",
    "    \n",
    "print(\"---end---\")"
   ]
  },
  {
   "cell_type": "code",
   "execution_count": 4,
   "id": "637d1356",
   "metadata": {},
   "outputs": [
    {
     "name": "stdout",
     "output_type": "stream",
     "text": [
      "94 is greater than 50\n",
      "---end---\n"
     ]
    }
   ],
   "source": [
    "# if elif else\n",
    "\n",
    "x = randint(1,100)\n",
    "\n",
    "if x > 50:\n",
    "    print(str(x), \"is greater than 50\")\n",
    "elif x == 50:\n",
    "    print(str(x), \"is equal to 50\")\n",
    "else :\n",
    "    print(str(x), \"is less to 50\")\n",
    "    \n",
    "print(\"---end---\")"
   ]
  },
  {
   "cell_type": "code",
   "execution_count": 5,
   "id": "9e70844c",
   "metadata": {},
   "outputs": [
    {
     "name": "stdout",
     "output_type": "stream",
     "text": [
      "숫자를 입력하세요12\n",
      "12은 짝수입니다.\n"
     ]
    }
   ],
   "source": [
    "# 사용자로부터 숫자를 입력받아 홀짝수 구분\n",
    "x = int(input(\"숫자를 입력하세요\"))\n",
    "\n",
    "if x%2 == 0:\n",
    "    print(str(x)+\"은 짝수입니다.\")\n",
    "else:\n",
    "    print(str(x)+\"은 홀수입니다.\")\n",
    "    \n",
    "\n"
   ]
  },
  {
   "cell_type": "code",
   "execution_count": 6,
   "id": "a9c42bc6",
   "metadata": {},
   "outputs": [
    {
     "name": "stdout",
     "output_type": "stream",
     "text": [
      "점수를 입력하세요11\n",
      "점수는 11점이고 F학점 입니다.\n"
     ]
    }
   ],
   "source": [
    "# 사용자로부터 점수를 입력받아 학점 등급을 계산하여 출력하기\n",
    "\n",
    "x = int(input(\"점수를 입력하세요\"))\n",
    "grade = \"\"\n",
    "if (x>100) | (x<0):\n",
    "    print(\"입력값을 확인해주세요.\")\n",
    "else:\n",
    "    if x>=90:\n",
    "        grade =\"A\"\n",
    "    elif x >=80:\n",
    "        grade = \"B\"\n",
    "    elif x>=70:\n",
    "        grade =\"C\"\n",
    "    elif x>=60:\n",
    "        grade =\"D\"\n",
    "    else:\n",
    "        grade =\"F\"\n",
    "    print(\"점수는\", str(x)+\"점이고\", grade+\"학점 입니다.\")"
   ]
  },
  {
   "cell_type": "code",
   "execution_count": 11,
   "id": "ee8cdc34",
   "metadata": {},
   "outputs": [
    {
     "name": "stdout",
     "output_type": "stream",
     "text": [
      "신용카드로 택시 타기\n"
     ]
    }
   ],
   "source": [
    "pocket = ['paper', 'smartphone']\n",
    "card = 1 # 0은 false\n",
    "\n",
    "type(pocket)\n",
    "\n",
    "if 'money' in pocket:\n",
    "    print(\"현금으로 택시 타기\")\n",
    "elif card:\n",
    "    print(\"신용카드로 택시 타기\")\n",
    "else:\n",
    "    print(\"튼튼한 다리를 사용!\")"
   ]
  },
  {
   "cell_type": "code",
   "execution_count": null,
   "id": "8dd4c4ef",
   "metadata": {},
   "outputs": [],
   "source": []
  },
  {
   "cell_type": "code",
   "execution_count": null,
   "id": "589ffcb3",
   "metadata": {},
   "outputs": [],
   "source": []
  },
  {
   "cell_type": "code",
   "execution_count": null,
   "id": "11b5aece",
   "metadata": {},
   "outputs": [],
   "source": []
  }
 ],
 "metadata": {
  "kernelspec": {
   "display_name": "Python 3",
   "language": "python",
   "name": "python3"
  },
  "language_info": {
   "codemirror_mode": {
    "name": "ipython",
    "version": 3
   },
   "file_extension": ".py",
   "mimetype": "text/x-python",
   "name": "python",
   "nbconvert_exporter": "python",
   "pygments_lexer": "ipython3",
   "version": "3.8.8"
  }
 },
 "nbformat": 4,
 "nbformat_minor": 5
}
