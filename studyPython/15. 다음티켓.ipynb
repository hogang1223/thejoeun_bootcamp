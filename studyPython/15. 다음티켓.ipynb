{
 "cells": [
  {
   "cell_type": "code",
   "execution_count": 9,
   "id": "776c3df9",
   "metadata": {},
   "outputs": [
    {
     "name": "stdout",
     "output_type": "stream",
     "text": [
      "블랙 위도우\n",
      "발신제한\n",
      "크루엘라\n",
      "콰이어트 플레이스 2\n",
      "랑종\n",
      "루카\n",
      "킬러의 보디가드 2\n",
      "미드나이트\n",
      "BIFAN2021 판타스틱 단편 걸작선 1\n",
      "괴기맨숀\n",
      "컨저링3: 악마가 시켰다\n",
      "인 더 하이츠\n",
      "빛나는 순간\n",
      "체르노빌 1986\n",
      "이번엔 잘 되겠지\n"
     ]
    }
   ],
   "source": [
    "# http://movie.daum.net/ranking/boxoffice/weekly\n",
    "\n",
    "from bs4 import BeautifulSoup\n",
    "import urllib.request as req\n",
    "\n",
    "url = \"https://movie.daum.net/ranking/boxoffice/weekly\"\n",
    "res = req.urlopen(url)\n",
    "\n",
    "# HTML 분석\n",
    "soup = BeautifulSoup(res, \"html.parser\")\n",
    "\n",
    "# 데이터 추출하기\n",
    "movie_lists = soup.select(\"strong a\")\n",
    "#print(movie_lists)\n",
    "for movie in movie_lists:\n",
    "    print(movie.string)"
   ]
  },
  {
   "cell_type": "code",
   "execution_count": 17,
   "id": "d6cc8f22",
   "metadata": {},
   "outputs": [],
   "source": [
    "from bs4 import BeautifulSoup\n",
    "from urllib.request import urlopen\n",
    "import pandas as pd"
   ]
  },
  {
   "cell_type": "code",
   "execution_count": 11,
   "id": "d404d16b",
   "metadata": {},
   "outputs": [],
   "source": [
    "url = \"https://movie.daum.net/ranking/boxoffice/weekly\"\n",
    "page = urlopen(url)\n",
    "soup = BeautifulSoup(page, 'html.parser')"
   ]
  },
  {
   "cell_type": "markdown",
   "id": "009e5dc0",
   "metadata": {},
   "source": [
    "## Test"
   ]
  },
  {
   "cell_type": "code",
   "execution_count": 12,
   "id": "fb82261b",
   "metadata": {},
   "outputs": [
    {
     "data": {
      "text/plain": [
       "[<a class=\"link_txt\" href=\"/moviedb/main?movieId=123215\">블랙 위도우</a>,\n",
       " <a class=\"link_txt\" href=\"/moviedb/main?movieId=138391\">발신제한</a>,\n",
       " <a class=\"link_txt\" href=\"/moviedb/main?movieId=108699\">크루엘라</a>,\n",
       " <a class=\"link_txt\" href=\"/moviedb/main?movieId=129982\">콰이어트 플레이스 2</a>,\n",
       " <a class=\"link_txt\" href=\"/moviedb/main?movieId=144859\">랑종</a>,\n",
       " <a class=\"link_txt\" href=\"/moviedb/main?movieId=143553\">루카</a>,\n",
       " <a class=\"link_txt\" href=\"/moviedb/main?movieId=130061\">킬러의 보디가드 2</a>,\n",
       " <a class=\"link_txt\" href=\"/moviedb/main?movieId=134928\">미드나이트</a>,\n",
       " <a class=\"link_txt\" href=\"/moviedb/main?movieId=\">BIFAN2021 판타스틱 단편 걸작선 1</a>,\n",
       " <a class=\"link_txt\" href=\"/moviedb/main?movieId=150872\">괴기맨숀</a>,\n",
       " <a class=\"link_txt\" href=\"/moviedb/main?movieId=130902\">컨저링3: 악마가 시켰다</a>,\n",
       " <a class=\"link_txt\" href=\"/moviedb/main?movieId=50636\">인 더 하이츠</a>,\n",
       " <a class=\"link_txt\" href=\"/moviedb/main?movieId=141190\">빛나는 순간</a>,\n",
       " <a class=\"link_txt\" href=\"/moviedb/main?movieId=150234\">체르노빌 1986</a>,\n",
       " <a class=\"link_txt\" href=\"/moviedb/main?movieId=149340\">이번엔 잘 되겠지</a>]"
      ]
     },
     "execution_count": 12,
     "metadata": {},
     "output_type": "execute_result"
    }
   ],
   "source": [
    "soup.select('strong a')"
   ]
  },
  {
   "cell_type": "markdown",
   "id": "505741c2",
   "metadata": {},
   "source": [
    "----------"
   ]
  },
  {
   "cell_type": "code",
   "execution_count": 14,
   "id": "8d5f5ba9",
   "metadata": {},
   "outputs": [
    {
     "name": "stdout",
     "output_type": "stream",
     "text": [
      "1 블랙 위도우\n",
      "2 발신제한\n",
      "3 크루엘라\n",
      "4 콰이어트 플레이스 2\n",
      "5 랑종\n",
      "6 루카\n",
      "7 킬러의 보디가드 2\n",
      "8 미드나이트\n",
      "9 BIFAN2021 판타스틱 단편 걸작선 1\n",
      "10 괴기맨숀\n",
      "11 컨저링3: 악마가 시켰다\n",
      "12 인 더 하이츠\n",
      "13 빛나는 순간\n",
      "14 체르노빌 1986\n",
      "15 이번엔 잘 되겠지\n",
      "['블랙 위도우', '발신제한', '크루엘라', '콰이어트 플레이스 2', '랑종', '루카', '킬러의 보디가드 2', '미드나이트', 'BIFAN2021 판타스틱 단편 걸작선 1', '괴기맨숀', '컨저링3: 악마가 시켰다', '인 더 하이츠', '빛나는 순간', '체르노빌 1986', '이번엔 잘 되겠지']\n"
     ]
    }
   ],
   "source": [
    "li_lists = soup.select('strong a')\n",
    "count = 0\n",
    "\n",
    "titleLists = [] # 영화 제목\n",
    "countLists = [] # 예매율 lists\n",
    "\n",
    "for li in li_lists:\n",
    "    count += 1\n",
    "    print(count, li.string.strip())\n",
    "    countLists.append(count)\n",
    "    titleLists.append(li.string.strip())"
   ]
  },
  {
   "cell_type": "code",
   "execution_count": 15,
   "id": "8fe19e85",
   "metadata": {},
   "outputs": [
    {
     "name": "stdout",
     "output_type": "stream",
     "text": [
      "[1, 2, 3, 4, 5, 6, 7, 8, 9, 10, 11, 12, 13, 14, 15]\n",
      "['블랙 위도우', '발신제한', '크루엘라', '콰이어트 플레이스 2', '랑종', '루카', '킬러의 보디가드 2', '미드나이트', 'BIFAN2021 판타스틱 단편 걸작선 1', '괴기맨숀', '컨저링3: 악마가 시켰다', '인 더 하이츠', '빛나는 순간', '체르노빌 1986', '이번엔 잘 되겠지']\n"
     ]
    }
   ],
   "source": [
    "# List 확인\n",
    "print(countLists)\n",
    "print(titleLists)"
   ]
  },
  {
   "cell_type": "code",
   "execution_count": 21,
   "id": "a5bea437",
   "metadata": {},
   "outputs": [
    {
     "data": {
      "text/html": [
       "<div>\n",
       "<style scoped>\n",
       "    .dataframe tbody tr th:only-of-type {\n",
       "        vertical-align: middle;\n",
       "    }\n",
       "\n",
       "    .dataframe tbody tr th {\n",
       "        vertical-align: top;\n",
       "    }\n",
       "\n",
       "    .dataframe thead th {\n",
       "        text-align: right;\n",
       "    }\n",
       "</style>\n",
       "<table border=\"1\" class=\"dataframe\">\n",
       "  <thead>\n",
       "    <tr style=\"text-align: right;\">\n",
       "      <th></th>\n",
       "      <th>Index</th>\n",
       "      <th>Titles</th>\n",
       "    </tr>\n",
       "  </thead>\n",
       "  <tbody>\n",
       "    <tr>\n",
       "      <th>0</th>\n",
       "      <td>1</td>\n",
       "      <td>블랙 위도우</td>\n",
       "    </tr>\n",
       "    <tr>\n",
       "      <th>1</th>\n",
       "      <td>2</td>\n",
       "      <td>발신제한</td>\n",
       "    </tr>\n",
       "    <tr>\n",
       "      <th>2</th>\n",
       "      <td>3</td>\n",
       "      <td>크루엘라</td>\n",
       "    </tr>\n",
       "    <tr>\n",
       "      <th>3</th>\n",
       "      <td>4</td>\n",
       "      <td>콰이어트 플레이스 2</td>\n",
       "    </tr>\n",
       "    <tr>\n",
       "      <th>4</th>\n",
       "      <td>5</td>\n",
       "      <td>랑종</td>\n",
       "    </tr>\n",
       "    <tr>\n",
       "      <th>5</th>\n",
       "      <td>6</td>\n",
       "      <td>루카</td>\n",
       "    </tr>\n",
       "    <tr>\n",
       "      <th>6</th>\n",
       "      <td>7</td>\n",
       "      <td>킬러의 보디가드 2</td>\n",
       "    </tr>\n",
       "    <tr>\n",
       "      <th>7</th>\n",
       "      <td>8</td>\n",
       "      <td>미드나이트</td>\n",
       "    </tr>\n",
       "    <tr>\n",
       "      <th>8</th>\n",
       "      <td>9</td>\n",
       "      <td>BIFAN2021 판타스틱 단편 걸작선 1</td>\n",
       "    </tr>\n",
       "    <tr>\n",
       "      <th>9</th>\n",
       "      <td>10</td>\n",
       "      <td>괴기맨숀</td>\n",
       "    </tr>\n",
       "    <tr>\n",
       "      <th>10</th>\n",
       "      <td>11</td>\n",
       "      <td>컨저링3: 악마가 시켰다</td>\n",
       "    </tr>\n",
       "    <tr>\n",
       "      <th>11</th>\n",
       "      <td>12</td>\n",
       "      <td>인 더 하이츠</td>\n",
       "    </tr>\n",
       "    <tr>\n",
       "      <th>12</th>\n",
       "      <td>13</td>\n",
       "      <td>빛나는 순간</td>\n",
       "    </tr>\n",
       "    <tr>\n",
       "      <th>13</th>\n",
       "      <td>14</td>\n",
       "      <td>체르노빌 1986</td>\n",
       "    </tr>\n",
       "    <tr>\n",
       "      <th>14</th>\n",
       "      <td>15</td>\n",
       "      <td>이번엔 잘 되겠지</td>\n",
       "    </tr>\n",
       "  </tbody>\n",
       "</table>\n",
       "</div>"
      ],
      "text/plain": [
       "    Index                   Titles\n",
       "0       1                   블랙 위도우\n",
       "1       2                     발신제한\n",
       "2       3                     크루엘라\n",
       "3       4              콰이어트 플레이스 2\n",
       "4       5                       랑종\n",
       "5       6                       루카\n",
       "6       7               킬러의 보디가드 2\n",
       "7       8                    미드나이트\n",
       "8       9  BIFAN2021 판타스틱 단편 걸작선 1\n",
       "9      10                     괴기맨숀\n",
       "10     11            컨저링3: 악마가 시켰다\n",
       "11     12                  인 더 하이츠\n",
       "12     13                   빛나는 순간\n",
       "13     14                체르노빌 1986\n",
       "14     15                이번엔 잘 되겠지"
      ]
     },
     "execution_count": 21,
     "metadata": {},
     "output_type": "execute_result"
    }
   ],
   "source": [
    "# countLists 만으로 DataFrame 생성\n",
    "\n",
    "df = pd.DataFrame(data=countLists, columns=['Index'])\n",
    "df['Titles'] = pd.Series(titleLists)\n",
    "df"
   ]
  },
  {
   "cell_type": "code",
   "execution_count": 23,
   "id": "24f5d8f7",
   "metadata": {},
   "outputs": [],
   "source": [
    "# csv로 저장\n",
    "df.to_csv(\"./Data/DaumList.csv\", sep=\",\", encoding='utf-8', index=False)"
   ]
  },
  {
   "cell_type": "code",
   "execution_count": null,
   "id": "a1b68fbd",
   "metadata": {},
   "outputs": [],
   "source": []
  },
  {
   "cell_type": "code",
   "execution_count": null,
   "id": "c52e4831",
   "metadata": {},
   "outputs": [],
   "source": []
  },
  {
   "cell_type": "code",
   "execution_count": null,
   "id": "26ccec85",
   "metadata": {},
   "outputs": [],
   "source": []
  },
  {
   "cell_type": "code",
   "execution_count": null,
   "id": "e71aea47",
   "metadata": {},
   "outputs": [],
   "source": []
  },
  {
   "cell_type": "code",
   "execution_count": null,
   "id": "8047a055",
   "metadata": {},
   "outputs": [],
   "source": []
  }
 ],
 "metadata": {
  "kernelspec": {
   "display_name": "Python 3",
   "language": "python",
   "name": "python3"
  },
  "language_info": {
   "codemirror_mode": {
    "name": "ipython",
    "version": 3
   },
   "file_extension": ".py",
   "mimetype": "text/x-python",
   "name": "python",
   "nbconvert_exporter": "python",
   "pygments_lexer": "ipython3",
   "version": "3.8.8"
  }
 },
 "nbformat": 4,
 "nbformat_minor": 5
}
